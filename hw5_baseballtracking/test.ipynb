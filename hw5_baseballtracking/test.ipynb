{
 "cells": [
  {
   "cell_type": "code",
   "execution_count": 1,
   "metadata": {},
   "outputs": [],
   "source": [
    "import os\n",
    "import numpy as np\n",
    "import cv2\n",
    "import time"
   ]
  },
  {
   "cell_type": "code",
   "execution_count": 5,
   "metadata": {},
   "outputs": [
    {
     "name": "stdout",
     "output_type": "stream",
     "text": [
      "Processing: 41.png\n"
     ]
    },
    {
     "data": {
      "text/plain": [
       "113"
      ]
     },
     "execution_count": 5,
     "metadata": {},
     "output_type": "execute_result"
    },
    {
     "ename": "",
     "evalue": "",
     "output_type": "error",
     "traceback": [
      "\u001b[1;31mThe Kernel crashed while executing code in the current cell or a previous cell. \n",
      "\u001b[1;31mPlease review the code in the cell(s) to identify a possible cause of the failure. \n",
      "\u001b[1;31mClick <a href='https://aka.ms/vscodeJupyterKernelCrash'>here</a> for more info. \n",
      "\u001b[1;31mView Jupyter <a href='command:jupyter.viewOutput'>log</a> for further details."
     ]
    }
   ],
   "source": [
    "data_path = \"C:/Users/danie/OneDrive/Documents/Repos/robotic_vision/hw5_baseballtracking/data/20240215113225/\"\n",
    "left_img_path = data_path + \"L/\"\n",
    "\n",
    "img_path = \"41.png\"\n",
    "prev_image = cv2.imread(left_img_path +  \"40.png\")\n",
    "\n",
    "print(f\"Processing: {img_path}\")\n",
    "\n",
    "full_img_path = left_img_path + img_path\n",
    "img = cv2.imread(full_img_path)\n",
    "\n",
    "abs_diff = cv2.absdiff(prev_image, img)\n",
    "\n",
    "gray = cv2.cvtColor(abs_diff, cv2.COLOR_BGR2GRAY)\n",
    "\n",
    "blurred = cv2.GaussianBlur(gray, (7, 7), 0)\n",
    "edges = cv2.Canny(blurred, 20, 55)\n",
    "contours, _ = cv2.findContours(edges, cv2.RETR_EXTERNAL, cv2.CHAIN_APPROX_SIMPLE)\n",
    "\n",
    "if len(contours) > 0:\n",
    "    max_contour = max(contours, key=cv2.contourArea)\n",
    "    x, y, w, h = cv2.boundingRect(max_contour)\n",
    "    roi_image = img.copy()\n",
    "    cv2.rectangle(roi_image, (x, y), (x + w, y + h), (0, 255, 0), 2)\n",
    "    cv2.imshow('Original Image with ROI', roi_image)\n",
    "else:\n",
    "    print(\"Didn't find any contours\")\n",
    "\n",
    "cv2.imshow(\"Edges\", edges)\n",
    "cv2.waitKey(0)\n"
   ]
  }
 ],
 "metadata": {
  "kernelspec": {
   "display_name": "pyt37",
   "language": "python",
   "name": "python3"
  },
  "language_info": {
   "codemirror_mode": {
    "name": "ipython",
    "version": 3
   },
   "file_extension": ".py",
   "mimetype": "text/x-python",
   "name": "python",
   "nbconvert_exporter": "python",
   "pygments_lexer": "ipython3",
   "version": "3.7.11"
  }
 },
 "nbformat": 4,
 "nbformat_minor": 2
}
