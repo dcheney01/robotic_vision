{
 "cells": [
  {
   "cell_type": "code",
   "execution_count": 2,
   "metadata": {},
   "outputs": [],
   "source": [
    "import cv2 as cv\n",
    "import numpy as np\n",
    "import matplotlib.pyplot as plt\n",
    "\n",
    "import os\n",
    "\n",
    "data_path = '/home/daniel/Documents/robotic_vision/hw1/Sequence1/'"
   ]
  },
  {
   "cell_type": "code",
   "execution_count": 3,
   "metadata": {},
   "outputs": [],
   "source": [
    "# get sorted list of images\n",
    "images = sorted(os.listdir(data_path))\n",
    "images = [image for image in images if image.endswith('.png')]\n",
    "images = [data_path + image for image in images]"
   ]
  },
  {
   "cell_type": "code",
   "execution_count": 5,
   "metadata": {},
   "outputs": [],
   "source": [
    "video_name = 'baseball_center.avi'\n",
    "frame = cv.imread(images[0])\n",
    "height, width, layers = frame.shape\n",
    "video = cv.VideoWriter(video_name, 0, 10, (width,height))\n",
    "\n",
    "prev_image = cv.imread(images[0])\n",
    "\n",
    "for image_path in images:\n",
    "    image = cv.imread(image_path)\n",
    "\n",
    "    sharpened = cv.addWeighted(image, 1.5, image, -0.5, 0)\n",
    "    abs_diff = cv.absdiff(prev_image, sharpened)\n",
    "    if np.sum(abs_diff) > 4e6:\n",
    "        abs_diff = np.zeros(abs_diff.shape, dtype=np.uint8)\n",
    "    prev_image = sharpened.copy()\n",
    "\n",
    "    gray = cv.cvtColor(abs_diff, cv.COLOR_BGR2GRAY)\n",
    "    circles = cv.HoughCircles(gray, cv.HOUGH_GRADIENT, 2.98, 10000, param1=110, param2=21, minRadius=2, maxRadius=12)\n",
    "    if circles is not None:\n",
    "        circles = np.uint16(np.around(circles))\n",
    "        for i in circles[0,:]:\n",
    "            cv.circle(image, (i[0], i[1]), i[2], (0, 255, 0), 2)\n",
    "            cv.circle(image, (i[0], i[1]), 2, (0, 0, 255), 3)\n",
    "            print(i[2])\n",
    "\n",
    "    video.write(image)\n",
    "    # if image_path[-7:-4] == 'L50' or image_path[-7:-4] == 'L49':# or image_path[-7:-4] == 'L49':\n",
    "    # print(image_path)\n",
    "    # plt.imshow(image)\n",
    "    # plt.show()"
   ]
  },
  {
   "cell_type": "code",
   "execution_count": null,
   "metadata": {},
   "outputs": [],
   "source": [
    "image = cv.imread(images[4])\n",
    "\n",
    "plt.imshow(image)"
   ]
  }
 ],
 "metadata": {
  "kernelspec": {
   "display_name": "Python 3",
   "language": "python",
   "name": "python3"
  },
  "language_info": {
   "codemirror_mode": {
    "name": "ipython",
    "version": 3
   },
   "file_extension": ".py",
   "mimetype": "text/x-python",
   "name": "python",
   "nbconvert_exporter": "python",
   "pygments_lexer": "ipython3",
   "version": "3.8.10"
  }
 },
 "nbformat": 4,
 "nbformat_minor": 2
}
